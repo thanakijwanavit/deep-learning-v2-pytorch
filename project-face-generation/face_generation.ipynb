{
 "cells": [
  {
   "cell_type": "markdown",
   "metadata": {
    "colab_type": "text",
    "id": "6UPZasMlc0iZ"
   },
   "source": [
    "# Face Generation\n",
    "\n",
    "In this project, you'll define and train a DCGAN on a dataset of faces. Your goal is to get a generator network to generate *new* images of faces that look as realistic as possible!\n",
    "\n",
    "The project will be broken down into a series of tasks from **loading in data to defining and training adversarial networks**. At the end of the notebook, you'll be able to visualize the results of your trained Generator to see how it performs; your generated samples should look like fairly realistic faces with small amounts of noise.\n",
    "\n",
    "### Get the Data\n",
    "\n",
    "You'll be using the [CelebFaces Attributes Dataset (CelebA)](http://mmlab.ie.cuhk.edu.hk/projects/CelebA.html) to train your adversarial networks.\n",
    "\n",
    "This dataset is more complex than the number datasets (like MNIST or SVHN) you've been working with, and so, you should prepare to define deeper networks and train them for a longer time to get good results. It is suggested that you utilize a GPU for training.\n",
    "\n",
    "### Pre-processed Data\n",
    "\n",
    "Since the project's main focus is on building the GANs, we've done *some* of the pre-processing for you. Each of the CelebA images has been cropped to remove parts of the image that don't include a face, then resized down to 64x64x3 NumPy images. Some sample data is show below.\n",
    "\n",
    "<img src='https://github.com/thanakijwanavit/deep-learning-v2-pytorch/blob/master/project-face-generation/assets/processed_face_data.png?raw=1' width=60% />\n",
    "\n",
    "> If you are working locally, you can download this data [by clicking here](https://s3.amazonaws.com/video.udacity-data.com/topher/2018/November/5be7eb6f_processed-celeba-small/processed-celeba-small.zip)\n",
    "\n",
    "This is a zip file that you'll need to extract in the home directory of this notebook for further loading and processing. After extracting the data, you should be left with a directory of data `processed_celeba_small/`"
   ]
  },
  {
   "cell_type": "code",
   "execution_count": 1,
   "metadata": {
    "colab": {
     "base_uri": "https://localhost:8080/",
     "height": 411
    },
    "colab_type": "code",
    "id": "4BK4cDFSc0id",
    "outputId": "322a2fec-faff-44ed-cd09-f28959b7e1fd"
   },
   "outputs": [
    {
     "name": "stdout",
     "output_type": "stream",
     "text": [
      "--2020-03-12 07:30:12--  https://s3.amazonaws.com/video.udacity-data.com/topher/2018/November/5be7eb6f_processed-celeba-small/processed-celeba-small.zip\n",
      "Resolving s3.amazonaws.com (s3.amazonaws.com)... 52.216.102.53\n",
      "Connecting to s3.amazonaws.com (s3.amazonaws.com)|52.216.102.53|:443... connected.\n",
      "HTTP request sent, awaiting response... 200 OK\n",
      "Length: 247694507 (236M) [application/zip]\n",
      "Saving to: ‘processed-celeba-small.zip.1’\n",
      "\n",
      "processed-celeba-sm 100%[===================>] 236.22M  36.0MB/s    in 7.2s    \n",
      "\n",
      "2020-03-12 07:30:20 (32.9 MB/s) - ‘processed-celeba-small.zip.1’ saved [247694507/247694507]\n",
      "\n",
      "--2020-03-12 07:30:22--  https://raw.githubusercontent.com/thanakijwanavit/deep-learning-v2-pytorch/master/project-face-generation/problem_unittests.py\n",
      "Resolving raw.githubusercontent.com (raw.githubusercontent.com)... 151.101.0.133, 151.101.64.133, 151.101.128.133, ...\n",
      "Connecting to raw.githubusercontent.com (raw.githubusercontent.com)|151.101.0.133|:443... connected.\n",
      "HTTP request sent, awaiting response... 200 OK\n",
      "Length: 2113 (2.1K) [text/plain]\n",
      "Saving to: ‘problem_unittests.py.1’\n",
      "\n",
      "problem_unittests.p 100%[===================>]   2.06K  --.-KB/s    in 0s      \n",
      "\n",
      "2020-03-12 07:30:22 (37.2 MB/s) - ‘problem_unittests.py.1’ saved [2113/2113]\n",
      "\n"
     ]
    }
   ],
   "source": [
    "# can comment out after executing\n",
    "!wget https://s3.amazonaws.com/video.udacity-data.com/topher/2018/November/5be7eb6f_processed-celeba-small/processed-celeba-small.zip\n",
    "!wget https://raw.githubusercontent.com/thanakijwanavit/deep-learning-v2-pytorch/master/project-face-generation/problem_unittests.py\n",
    "!rm -rf *.1"
   ]
  },
  {
   "cell_type": "code",
   "execution_count": 0,
   "metadata": {
    "colab": {},
    "colab_type": "code",
    "id": "WyO0u92OvbOq"
   },
   "outputs": [],
   "source": [
    "!unzip -qu processed-celeba-small.zip"
   ]
  },
  {
   "cell_type": "code",
   "execution_count": 0,
   "metadata": {
    "colab": {},
    "colab_type": "code",
    "id": "D-OrdsKnc0ii"
   },
   "outputs": [],
   "source": [
    "data_dir = 'processed_celeba_small/'\n",
    "\n",
    "\"\"\"\n",
    "DON'T MODIFY ANYTHING IN THIS CELL\n",
    "\"\"\"\n",
    "import pickle as pkl\n",
    "import matplotlib.pyplot as plt\n",
    "import numpy as np\n",
    "import problem_unittests as tests\n",
    "#import helper\n",
    "\n",
    "%matplotlib inline"
   ]
  },
  {
   "cell_type": "markdown",
   "metadata": {
    "colab_type": "text",
    "id": "1e-9M5ukc0in"
   },
   "source": [
    "## Visualize the CelebA Data\n",
    "\n",
    "The [CelebA](http://mmlab.ie.cuhk.edu.hk/projects/CelebA.html) dataset contains over 200,000 celebrity images with annotations. Since you're going to be generating faces, you won't need the annotations, you'll only need the images. Note that these are color images with [3 color channels (RGB)](https://en.wikipedia.org/wiki/Channel_(digital_image)#RGB_Images) each.\n",
    "\n",
    "### Pre-process and Load the Data\n",
    "\n",
    "Since the project's main focus is on building the GANs, we've done *some* of the pre-processing for you. Each of the CelebA images has been cropped to remove parts of the image that don't include a face, then resized down to 64x64x3 NumPy images. This *pre-processed* dataset is a smaller subset of the very large CelebA data.\n",
    "\n",
    "> There are a few other steps that you'll need to **transform** this data and create a **DataLoader**.\n",
    "\n",
    "#### Exercise: Complete the following `get_dataloader` function, such that it satisfies these requirements:\n",
    "\n",
    "* Your images should be square, Tensor images of size `image_size x image_size` in the x and y dimension.\n",
    "* Your function should return a DataLoader that shuffles and batches these Tensor images.\n",
    "\n",
    "#### ImageFolder\n",
    "\n",
    "To create a dataset given a directory of images, it's recommended that you use PyTorch's [ImageFolder](https://pytorch.org/docs/stable/torchvision/datasets.html#imagefolder) wrapper, with a root directory `processed_celeba_small/` and data transformation passed in."
   ]
  },
  {
   "cell_type": "code",
   "execution_count": 0,
   "metadata": {
    "colab": {},
    "colab_type": "code",
    "id": "xHkSOur3c0io"
   },
   "outputs": [],
   "source": [
    "# necessary imports\n",
    "import torch\n",
    "from torchvision import datasets\n",
    "from torchvision import transforms\n",
    "from torch.utils.data import DataLoader\n",
    "import os"
   ]
  },
  {
   "cell_type": "code",
   "execution_count": 0,
   "metadata": {
    "colab": {},
    "colab_type": "code",
    "id": "Xedi5PQnc0is"
   },
   "outputs": [],
   "source": [
    "def get_dataloader(batch_size, image_size, data_dir='processed_celeba_small/', num_workers = 0):\n",
    "    \"\"\"\n",
    "    Batch the neural network data using DataLoader\n",
    "    :param batch_size: The size of each batch; the number of images in a batch\n",
    "    :param img_size: The square size of the image data (x, y)\n",
    "    :param data_dir: Directory where image data is located\n",
    "    :return: DataLoader with batched data\n",
    "    \"\"\"\n",
    "    \n",
    "    # TODO: Implement function and return a dataloader\n",
    "    \n",
    "    # resize and normalize the images\n",
    "    transform = transforms.Compose([transforms.Resize(image_size), # resize to 128x128\n",
    "                                    transforms.ToTensor()])\n",
    "\n",
    "    # get training and test directories\n",
    "    image_path = './' + data_dir\n",
    "    celeba_image_path = os.path.join(image_path, 'celeba')\n",
    "\n",
    "    # define datasets using ImageFolder\n",
    "    celeba_dataset = datasets.ImageFolder(celeba_image_path, transform)\n",
    "\n",
    "    # create and return DataLoaders\n",
    "    celeba_loader = DataLoader(dataset=celeba_dataset, batch_size=batch_size, shuffle=True, num_workers=num_workers)\n",
    "\n",
    "    return celeba_loader\n"
   ]
  },
  {
   "cell_type": "code",
   "execution_count": 0,
   "metadata": {
    "colab": {},
    "colab_type": "code",
    "id": "mKwxddeKjyBb"
   },
   "outputs": [],
   "source": []
  },
  {
   "cell_type": "markdown",
   "metadata": {
    "colab_type": "text",
    "id": "wTGok_YZc0iv"
   },
   "source": [
    "## Create a DataLoader\n",
    "\n",
    "#### Exercise: Create a DataLoader `celeba_train_loader` with appropriate hyperparameters.\n",
    "\n",
    "Call the above function and create a dataloader to view images. \n",
    "* You can decide on any reasonable `batch_size` parameter\n",
    "* Your `image_size` **must be** `32`. Resizing the data to a smaller size will make for faster training, while still creating convincing images of faces!"
   ]
  },
  {
   "cell_type": "code",
   "execution_count": 0,
   "metadata": {
    "colab": {},
    "colab_type": "code",
    "id": "XJgTXjroc0iw"
   },
   "outputs": [],
   "source": [
    "# Define function hyperparameters\n",
    "batch_size = 128\n",
    "img_size = 32\n",
    "\n",
    "\"\"\"\n",
    "DON'T MODIFY ANYTHING IN THIS CELL THAT IS BELOW THIS LINE\n",
    "\"\"\"\n",
    "# Call your function and get a dataloader\n",
    "celeba_train_loader = get_dataloader(batch_size, img_size)\n"
   ]
  },
  {
   "cell_type": "markdown",
   "metadata": {
    "colab_type": "text",
    "id": "dCSbQiW6c0i1"
   },
   "source": [
    "Next, you can view some images! You should seen square images of somewhat-centered faces.\n",
    "\n",
    "Note: You'll need to convert the Tensor images into a NumPy type and transpose the dimensions to correctly display an image, suggested `imshow` code is below, but it may not be perfect."
   ]
  },
  {
   "cell_type": "code",
   "execution_count": 7,
   "metadata": {
    "colab": {
     "base_uri": "https://localhost:8080/",
     "height": 268
    },
    "colab_type": "code",
    "id": "ZG2TaSOdc0i3",
    "outputId": "33e6a882-762f-47b7-ca70-a4871d2212bd"
   },
   "outputs": [
    {
     "data": {
      "image/png": "[encoded data removed]",
      "text/plain": [
       "<Figure size 1440x288 with 20 Axes>"
      ]
     },
     "metadata": {
      "tags": []
     },
     "output_type": "display_data"
    }
   ],
   "source": [
    "# helper display function\n",
    "def imshow(img):\n",
    "    npimg = img.numpy()\n",
    "    plt.imshow(np.transpose(npimg, (1, 2, 0)))\n",
    "\n",
    "\"\"\"\n",
    "DON'T MODIFY ANYTHING IN THIS CELL THAT IS BELOW THIS LINE\n",
    "\"\"\"\n",
    "# obtain one batch of training images\n",
    "dataiter = iter(celeba_train_loader)\n",
    "images, _ = dataiter.next() # _ for no labels\n",
    "\n",
    "# plot the images in the batch, along with the corresponding labels\n",
    "fig = plt.figure(figsize=(20, 4))\n",
    "plot_size=20\n",
    "for idx in np.arange(plot_size):\n",
    "    ax = fig.add_subplot(2, plot_size/2, idx+1, xticks=[], yticks=[])\n",
    "    imshow(images[idx])"
   ]
  },
  {
   "cell_type": "markdown",
   "metadata": {
    "colab_type": "text",
    "id": "XT8-xNbhc0i7"
   },
   "source": [
    "#### Exercise: Pre-process your image data and scale it to a pixel range of -1 to 1\n",
    "\n",
    "You need to do a bit of pre-processing; you know that the output of a `tanh` activated generator will contain pixel values in a range from -1 to 1, and so, we need to rescale our training images to a range of -1 to 1. (Right now, they are in a range from 0-1.)"
   ]
  },
  {
   "cell_type": "code",
   "execution_count": 0,
   "metadata": {
    "colab": {},
    "colab_type": "code",
    "id": "4wGY0keSc0i8"
   },
   "outputs": [],
   "source": [
    "# TODO: Complete the scale function\n",
    "def scale(x, feature_range=(-1, 1)):\n",
    "    ''' Scale takes in an image x and returns that image, scaled\n",
    "       with a feature_range of pixel values from -1 to 1. \n",
    "       This function assumes that the input x is already scaled from 0-1.'''\n",
    "    # assume x is scaled to (0, 1)\n",
    "    # scale to feature_range and return scaled x\n",
    "    min, max = feature_range\n",
    "    x = x * (max - min) + min\n",
    "    return x"
   ]
  },
  {
   "cell_type": "code",
   "execution_count": 9,
   "metadata": {
    "colab": {
     "base_uri": "https://localhost:8080/",
     "height": 51
    },
    "colab_type": "code",
    "id": "xfgaOpMnc0i_",
    "outputId": "47beb906-64d7-4895-c189-05ff8df49586"
   },
   "outputs": [
    {
     "name": "stdout",
     "output_type": "stream",
     "text": [
      "Min:  tensor(-1.)\n",
      "Max:  tensor(0.8980)\n"
     ]
    }
   ],
   "source": [
    "\"\"\"\n",
    "DON'T MODIFY ANYTHING IN THIS CELL THAT IS BELOW THIS LINE\n",
    "\"\"\"\n",
    "# check scaled range\n",
    "# should be close to -1 to 1\n",
    "img = images[0]\n",
    "scaled_img = scale(img)\n",
    "\n",
    "print('Min: ', scaled_img.min())\n",
    "print('Max: ', scaled_img.max())"
   ]
  },
  {
   "cell_type": "markdown",
   "metadata": {
    "colab_type": "text",
    "id": "e4C-aEBbc0jE"
   },
   "source": [
    "---\n",
    "# Define the Model\n",
    "\n",
    "A GAN is comprised of two adversarial networks, a discriminator and a generator.\n",
    "\n",
    "## Discriminator\n",
    "\n",
    "Your first task will be to define the discriminator. This is a convolutional classifier like you've built before, only without any maxpooling layers. To deal with this complex data, it's suggested you use a deep network with **normalization**. You are also allowed to create any helper functions that may be useful.\n",
    "\n",
    "#### Exercise: Complete the Discriminator class\n",
    "* The inputs to the discriminator are 32x32x3 tensor images\n",
    "* The output should be a single value that will indicate whether a given image is real or fake\n"
   ]
  },
  {
   "cell_type": "code",
   "execution_count": 0,
   "metadata": {
    "colab": {},
    "colab_type": "code",
    "id": "qyzhhjpQc0jF"
   },
   "outputs": [],
   "source": [
    "import torch.nn as nn\n",
    "import torch.nn.functional as F"
   ]
  },
  {
   "cell_type": "code",
   "execution_count": 0,
   "metadata": {
    "colab": {},
    "colab_type": "code",
    "id": "OUqZL5booVL2"
   },
   "outputs": [],
   "source": [
    "def conv(in_channels, out_channels, kernel_size, stride=2, padding=1, batch_norm=True):\n",
    "    \"\"\"Creates a convolutional layer, with optional batch normalization.\n",
    "    \"\"\"\n",
    "    layers = []\n",
    "    conv_layer = nn.Conv2d(in_channels=in_channels, out_channels=out_channels, \n",
    "                           kernel_size=kernel_size, stride=stride, padding=padding, bias=False)\n",
    "    \n",
    "    layers.append(conv_layer)\n",
    "\n",
    "    if batch_norm:\n",
    "        layers.append(nn.BatchNorm2d(out_channels))\n",
    "    return nn.Sequential(*layers)"
   ]
  },
  {
   "cell_type": "code",
   "execution_count": 12,
   "metadata": {
    "colab": {
     "base_uri": "https://localhost:8080/",
     "height": 34
    },
    "colab_type": "code",
    "id": "NlWB9Dl1c0jI",
    "outputId": "fc2f0cbe-39db-42af-862a-69f243890556"
   },
   "outputs": [
    {
     "name": "stdout",
     "output_type": "stream",
     "text": [
      "Tests Passed\n"
     ]
    }
   ],
   "source": [
    "class Discriminator(nn.Module):\n",
    "\n",
    "    def __init__(self, conv_dim):\n",
    "        \"\"\"\n",
    "        Initialize the Discriminator Module\n",
    "        :param conv_dim: The depth of the first convolutional layer\n",
    "        \"\"\"\n",
    "        super(Discriminator, self).__init__()\n",
    "\n",
    "        # complete init function\n",
    "        ll = [3,conv_dim,2*conv_dim,4*conv_dim,8*conv_dim]\n",
    "        self.cv1 = conv(ll[0],ll[1],4, batch_norm=False)\n",
    "        self.cv2 = conv(ll[1],ll[2],4)\n",
    "        self.cv3 = conv(ll[2],ll[3],4)\n",
    "        self.cv4 = conv(ll[3],ll[4],4)\n",
    "        self.cv5 = conv(ll[4],1,4, stride=1, batch_norm=False)\n",
    "        \n",
    "\n",
    "    def forward(self, x):\n",
    "        \"\"\"\n",
    "        Forward propagation of the neural network\n",
    "        :param x: The input to the neural network     \n",
    "        :return: Discriminator logits; the output of the neural network\n",
    "        \"\"\"\n",
    "        # define feedforward behavior\n",
    "        x = self.cv1(x)\n",
    "        x = F.leaky_relu(x, 0.2)\n",
    "        x = self.cv2(x)\n",
    "        x = F.leaky_relu(x, 0.2)\n",
    "        x = self.cv3(x)\n",
    "        x = F.leaky_relu(x, 0.2)\n",
    "        x = self.cv4(x)\n",
    "        x = F.leaky_relu(x, 0.2)\n",
    "        x = self.cv5(x)\n",
    "        x = torch.flatten(x,1,3)\n",
    "        \n",
    "        return x\n",
    "\n",
    "\n",
    "\"\"\"\n",
    "DON'T MODIFY ANYTHING IN THIS CELL THAT IS BELOW THIS LINE\n",
    "\"\"\"\n",
    "tests.test_discriminator(Discriminator)"
   ]
  },
  {
   "cell_type": "code",
   "execution_count": 13,
   "metadata": {
    "colab": {
     "base_uri": "https://localhost:8080/",
     "height": 51
    },
    "colab_type": "code",
    "id": "ZU_pOiTHtUjb",
    "outputId": "3aeddb09-bd30-442e-d642-59c2587a802b"
   },
   "outputs": [
    {
     "name": "stdout",
     "output_type": "stream",
     "text": [
      "torch.Size([1, 60, 352])\n",
      "torch.Size([1, 21120])\n"
     ]
    }
   ],
   "source": [
    "_input = torch.randn(1, 10, 12,34)\n",
    "unfold = nn.Unfold(kernel_size=(2,3))\n",
    "_output = unfold(_input)\n",
    "print(_output.size())\n",
    "_output = torch.flatten(_output,1,2)\n",
    "print(_output.size())\n"
   ]
  },
  {
   "cell_type": "markdown",
   "metadata": {
    "colab_type": "text",
    "id": "BkRq1llpc0jM"
   },
   "source": [
    "## Generator\n",
    "\n",
    "The generator should upsample an input and generate a *new* image of the same size as our training data `32x32x3`. This should be mostly transpose convolutional layers with normalization applied to the outputs.\n",
    "\n",
    "#### Exercise: Complete the Generator class\n",
    "* The inputs to the generator are vectors of some length `z_size`\n",
    "* The output should be a image of shape `32x32x3`"
   ]
  },
  {
   "cell_type": "code",
   "execution_count": 0,
   "metadata": {
    "colab": {},
    "colab_type": "code",
    "id": "9Sm2N3iIq_fs"
   },
   "outputs": [],
   "source": [
    "def deconv(in_channels, out_channels, kernel_size, stride=2, padding=1, batch_norm=True):\n",
    "    \"\"\"Creates a transpose convolutional layer, with optional batch normalization.\n",
    "    \"\"\"\n",
    "    layers = []\n",
    "    # append transpose conv layer\n",
    "    layers.append(nn.ConvTranspose2d(in_channels, out_channels, kernel_size, stride, padding, bias=False))\n",
    "    # optional batch norm layer\n",
    "    if batch_norm:\n",
    "        layers.append(nn.BatchNorm2d(out_channels))\n",
    "    return nn.Sequential(*layers)"
   ]
  },
  {
   "cell_type": "code",
   "execution_count": 15,
   "metadata": {
    "colab": {
     "base_uri": "https://localhost:8080/",
     "height": 88
    },
    "colab_type": "code",
    "id": "MaSCgxnVc0jN",
    "outputId": "14aa2d66-6ecc-4855-f774-6a056f5c8486"
   },
   "outputs": [
    {
     "name": "stdout",
     "output_type": "stream",
     "text": [
      "Tests Passed\n"
     ]
    },
    {
     "name": "stderr",
     "output_type": "stream",
     "text": [
      "/usr/local/lib/python3.6/dist-packages/torch/nn/functional.py:1340: UserWarning: nn.functional.tanh is deprecated. Use torch.tanh instead.\n",
      "  warnings.warn(\"nn.functional.tanh is deprecated. Use torch.tanh instead.\")\n"
     ]
    }
   ],
   "source": [
    "class Generator(nn.Module):\n",
    "    \n",
    "    def __init__(self, z_size, conv_dim):\n",
    "        \"\"\"\n",
    "        Initialize the Generator Module\n",
    "        :param z_size: The length of the input latent vector, z\n",
    "        :param conv_dim: The depth of the inputs to the *last* transpose convolutional layer\n",
    "        \"\"\"\n",
    "        super(Generator, self).__init__()\n",
    "        self.conv_dim = conv_dim\n",
    "\n",
    "        # 3. Define the decoder part of the generator\n",
    "        # two transpose convolutional layers and a third that looks a lot like the initial conv layer\n",
    "        self.fc = nn.Linear(z_size, conv_dim*4*4*4)\n",
    "\n",
    "        self.deconv1 = deconv(conv_dim*4, conv_dim*2, 4)\n",
    "        self.deconv2 = deconv(conv_dim*2, conv_dim, 4)\n",
    "        # no batch norm on last layer\n",
    "        self.deconv3 = deconv(conv_dim, 3, 4, batch_norm=False)\n",
    "        \n",
    "\n",
    "    def forward(self, x):\n",
    "        \"\"\"\n",
    "        Forward propagation of the neural network\n",
    "        :param x: The input to the neural network     \n",
    "        :return: A 32x32x3 Tensor image as output\n",
    "        \"\"\"\n",
    "\n",
    "        x = self.fc(x)\n",
    "        x = x.view(-1, self.conv_dim*4, 4, 4)\n",
    "\n",
    "        x = F.relu(self.deconv1(x))\n",
    "        x = F.relu(self.deconv2(x))\n",
    "        \n",
    "        x = F.tanh(self.deconv3(x))\n",
    "        return x\n",
    "\n",
    "\"\"\"\n",
    "DON'T MODIFY ANYTHING IN THIS CELL THAT IS BELOW THIS LINE\n",
    "\"\"\"\n",
    "tests.test_generator(Generator)"
   ]
  },
  {
   "cell_type": "markdown",
   "metadata": {
    "colab_type": "text",
    "id": "IxydElWKc0jQ"
   },
   "source": [
    "## Initialize the weights of your networks\n",
    "\n",
    "To help your models converge, you should initialize the weights of the convolutional and linear layers in your model. From reading the [original DCGAN paper](https://arxiv.org/pdf/1511.06434.pdf), they say:\n",
    "> All weights were initialized from a zero-centered Normal distribution with standard deviation 0.02.\n",
    "\n",
    "So, your next task will be to define a weight initialization function that does just this!\n",
    "\n",
    "You can refer back to the lesson on weight initialization or even consult existing model code, such as that from [the `networks.py` file in CycleGAN Github repository](https://github.com/junyanz/pytorch-CycleGAN-and-pix2pix/blob/master/models/networks.py) to help you complete this function.\n",
    "\n",
    "#### Exercise: Complete the weight initialization function\n",
    "\n",
    "* This should initialize only **convolutional** and **linear** layers\n",
    "* Initialize the weights to a normal distribution, centered around 0, with a standard deviation of 0.02.\n",
    "* The bias terms, if they exist, may be left alone or set to 0."
   ]
  },
  {
   "cell_type": "code",
   "execution_count": 0,
   "metadata": {
    "colab": {},
    "colab_type": "code",
    "id": "PrUc5dhWc0jR"
   },
   "outputs": [],
   "source": [
    "from torch.nn import init\n",
    "\n",
    "def weights_init_normal(m):\n",
    "    \"\"\"\n",
    "    Applies initial weights to certain layers in a model .\n",
    "    The weights are taken from a normal distribution \n",
    "    with mean = 0, std dev = 0.02.\n",
    "    :param m: A module or layer in a network    \n",
    "    \"\"\"\n",
    "    init_bias = 0.01\n",
    "    std = 0.02\n",
    "    # classname will be something like:\n",
    "    # `Conv`, `BatchNorm2d`, `Linear`, etc.\n",
    "    classname = m.__class__.__name__\n",
    "    # print(classname)\n",
    "    # TODO: Apply initial weights to convolutional and linear layers\n",
    "    # if \"Conv\" in classname:\n",
    "    #   nn.init.normal_(m.weight.data, std=std)\n",
    "    #   print(classname ,\" is initiated\")\n",
    "    # elif \"Linear\" in classname:\n",
    "    #   nn.init.normal_(m.weight.data, std=std)\n",
    "    #   print(classname ,\" is initiated\")\n",
    "    # elif \"Batch\" in classname:\n",
    "    #   nn.init.normal_(m.weight.data, 1.0, init_bias)\n",
    "    #   print(classname ,\" is initiated\")\n",
    "    # else:\n",
    "    #   pass\n",
    "      # torch.nn.init.xavier_normal(m.weight.data)\n",
    "    # m.bias.data.fill_(0.01)\n",
    "    isConvolution = classname.find('Conv') != -1\n",
    "    isLinear = classname.find('Linear') != -1\n",
    "    if (hasattr(m, 'weight') and isConvolution or isLinear):\n",
    "        init.normal_(m.weight.data, 0.0, 0.02)\n",
    "    \n",
    "    "
   ]
  },
  {
   "cell_type": "markdown",
   "metadata": {
    "colab_type": "text",
    "collapsed": true,
    "id": "Ak9YkWfoc0jW"
   },
   "source": [
    "## Build complete network\n",
    "\n",
    "Define your models' hyperparameters and instantiate the discriminator and generator from the classes defined above. Make sure you've passed in the correct input arguments."
   ]
  },
  {
   "cell_type": "code",
   "execution_count": 0,
   "metadata": {
    "colab": {},
    "colab_type": "code",
    "id": "-trM3n-rc0jY"
   },
   "outputs": [],
   "source": [
    "\"\"\"\n",
    "DON'T MODIFY ANYTHING IN THIS CELL THAT IS BELOW THIS LINE\n",
    "\"\"\"\n",
    "def build_network(d_conv_dim, g_conv_dim, z_size):\n",
    "    # define discriminator and generator\n",
    "    D = Discriminator(d_conv_dim)\n",
    "    G = Generator(z_size=z_size, conv_dim=g_conv_dim)\n",
    "\n",
    "    # initialize model weights\n",
    "    D.apply(weights_init_normal)\n",
    "    G.apply(weights_init_normal)\n",
    "\n",
    "    print(D)\n",
    "    print()\n",
    "    print(G)\n",
    "    \n",
    "    return D, G\n"
   ]
  },
  {
   "cell_type": "markdown",
   "metadata": {
    "colab_type": "text",
    "id": "XJWGFO89c0jc"
   },
   "source": [
    "#### Exercise: Define model hyperparameters"
   ]
  },
  {
   "cell_type": "code",
   "execution_count": 18,
   "metadata": {
    "colab": {
     "base_uri": "https://localhost:8080/",
     "height": 612
    },
    "colab_type": "code",
    "id": "x-bj-oxpc0jd",
    "outputId": "29861cce-ab25-45a9-ef8d-341977b44f18"
   },
   "outputs": [
    {
     "name": "stdout",
     "output_type": "stream",
     "text": [
      "Discriminator(\n",
      "  (cv1): Sequential(\n",
      "    (0): Conv2d(3, 32, kernel_size=(4, 4), stride=(2, 2), padding=(1, 1), bias=False)\n",
      "  )\n",
      "  (cv2): Sequential(\n",
      "    (0): Conv2d(32, 64, kernel_size=(4, 4), stride=(2, 2), padding=(1, 1), bias=False)\n",
      "    (1): BatchNorm2d(64, eps=1e-05, momentum=0.1, affine=True, track_running_stats=True)\n",
      "  )\n",
      "  (cv3): Sequential(\n",
      "    (0): Conv2d(64, 128, kernel_size=(4, 4), stride=(2, 2), padding=(1, 1), bias=False)\n",
      "    (1): BatchNorm2d(128, eps=1e-05, momentum=0.1, affine=True, track_running_stats=True)\n",
      "  )\n",
      "  (cv4): Sequential(\n",
      "    (0): Conv2d(128, 256, kernel_size=(4, 4), stride=(2, 2), padding=(1, 1), bias=False)\n",
      "    (1): BatchNorm2d(256, eps=1e-05, momentum=0.1, affine=True, track_running_stats=True)\n",
      "  )\n",
      "  (cv5): Sequential(\n",
      "    (0): Conv2d(256, 1, kernel_size=(4, 4), stride=(1, 1), padding=(1, 1), bias=False)\n",
      "  )\n",
      ")\n",
      "\n",
      "Generator(\n",
      "  (fc): Linear(in_features=100, out_features=2048, bias=True)\n",
      "  (deconv1): Sequential(\n",
      "    (0): ConvTranspose2d(128, 64, kernel_size=(4, 4), stride=(2, 2), padding=(1, 1), bias=False)\n",
      "    (1): BatchNorm2d(64, eps=1e-05, momentum=0.1, affine=True, track_running_stats=True)\n",
      "  )\n",
      "  (deconv2): Sequential(\n",
      "    (0): ConvTranspose2d(64, 32, kernel_size=(4, 4), stride=(2, 2), padding=(1, 1), bias=False)\n",
      "    (1): BatchNorm2d(32, eps=1e-05, momentum=0.1, affine=True, track_running_stats=True)\n",
      "  )\n",
      "  (deconv3): Sequential(\n",
      "    (0): ConvTranspose2d(32, 3, kernel_size=(4, 4), stride=(2, 2), padding=(1, 1), bias=False)\n",
      "  )\n",
      ")\n"
     ]
    }
   ],
   "source": [
    "# Define model hyperparams\n",
    "d_conv_dim = 32\n",
    "g_conv_dim = 32\n",
    "z_size = 100\n",
    "\n",
    "\"\"\"\n",
    "DON'T MODIFY ANYTHING IN THIS CELL THAT IS BELOW THIS LINE\n",
    "\"\"\"\n",
    "D, G = build_network(d_conv_dim, g_conv_dim, z_size)"
   ]
  },
  {
   "cell_type": "markdown",
   "metadata": {
    "colab_type": "text",
    "id": "0I03bMu2c0jh"
   },
   "source": [
    "### Training on GPU\n",
    "\n",
    "Check if you can train on GPU. Here, we'll set this as a boolean variable `train_on_gpu`. Later, you'll be responsible for making sure that \n",
    ">* Models,\n",
    "* Model inputs, and\n",
    "* Loss function arguments\n",
    "\n",
    "Are moved to GPU, where appropriate."
   ]
  },
  {
   "cell_type": "code",
   "execution_count": 19,
   "metadata": {
    "colab": {
     "base_uri": "https://localhost:8080/",
     "height": 34
    },
    "colab_type": "code",
    "id": "Wy-gfsQ4c0ji",
    "outputId": "bc072f82-7098-46f2-af2c-8849fe716ab6"
   },
   "outputs": [
    {
     "name": "stdout",
     "output_type": "stream",
     "text": [
      "Training on GPU!\n"
     ]
    }
   ],
   "source": [
    "\"\"\"\n",
    "DON'T MODIFY ANYTHING IN THIS CELL\n",
    "\"\"\"\n",
    "import torch\n",
    "\n",
    "# Check for a GPU\n",
    "train_on_gpu = torch.cuda.is_available()\n",
    "if not train_on_gpu:\n",
    "    print('No GPU found. Please use a GPU to train your neural network.')\n",
    "else:\n",
    "    print('Training on GPU!')"
   ]
  },
  {
   "cell_type": "markdown",
   "metadata": {
    "colab_type": "text",
    "id": "QsU6dMk1c0jn"
   },
   "source": [
    "---\n",
    "## Discriminator and Generator Losses\n",
    "\n",
    "Now we need to calculate the losses for both types of adversarial networks.\n",
    "\n",
    "### Discriminator Losses\n",
    "\n",
    "> * For the discriminator, the total loss is the sum of the losses for real and fake images, `d_loss = d_real_loss + d_fake_loss`. \n",
    "* Remember that we want the discriminator to output 1 for real images and 0 for fake images, so we need to set up the losses to reflect that.\n",
    "\n",
    "\n",
    "### Generator Loss\n",
    "\n",
    "The generator loss will look similar only with flipped labels. The generator's goal is to get the discriminator to *think* its generated images are *real*.\n",
    "\n",
    "#### Exercise: Complete real and fake loss functions\n",
    "\n",
    "**You may choose to use either cross entropy or a least squares error loss to complete the following `real_loss` and `fake_loss` functions.**"
   ]
  },
  {
   "cell_type": "code",
   "execution_count": 0,
   "metadata": {
    "colab": {},
    "colab_type": "code",
    "id": "Xa0KnDIkc0jo"
   },
   "outputs": [],
   "source": [
    "def real_loss(D_out):\n",
    "    '''Calculates how close discriminator outputs are to being real.\n",
    "       param, D_out: discriminator logits\n",
    "       return: real loss'''\n",
    "    labels = torch.ones(D_out.size(0))\n",
    "    labels = labels.to('cuda')\n",
    "    # criterion = nn.MSELoss()\n",
    "    criterion = nn.BCEWithLogitsLoss()\n",
    "    loss = criterion(D_out.squeeze(), labels)\n",
    "    return loss\n",
    "\n",
    "def fake_loss(D_out):\n",
    "    '''Calculates how close discriminator outputs are to being fake.\n",
    "       param, D_out: discriminator logits\n",
    "       return: fake loss'''\n",
    "    labels = torch.zeros(D_out.size(0)).to('cuda')\n",
    "    # criterion = nn.MSELoss()\n",
    "    criterion = nn.BCEWithLogitsLoss()\n",
    "    loss = criterion(D_out.squeeze(), labels)\n",
    "    return loss"
   ]
  },
  {
   "cell_type": "markdown",
   "metadata": {
    "colab_type": "text",
    "id": "oW546YdLc0jr"
   },
   "source": [
    "## Optimizers\n",
    "\n",
    "#### Exercise: Define optimizers for your Discriminator (D) and Generator (G)\n",
    "\n",
    "Define optimizers for your models with appropriate hyperparameters."
   ]
  },
  {
   "cell_type": "code",
   "execution_count": 0,
   "metadata": {
    "colab": {},
    "colab_type": "code",
    "id": "ENELrdYdc0jt"
   },
   "outputs": [],
   "source": [
    "import torch.optim as optim\n",
    "\n",
    "lr=0.0002\n",
    "beta1=0.5\n",
    "beta2=0.999 # default value\n",
    "\n",
    "# Create optimizers for the discriminator D and generator G\n",
    "d_optimizer = optim.Adam(D.parameters(), lr, [beta1, beta2])\n",
    "g_optimizer = optim.Adam(G.parameters(), lr, [beta1, beta2])"
   ]
  },
  {
   "cell_type": "markdown",
   "metadata": {
    "colab_type": "text",
    "id": "vcVyLTx-c0jx"
   },
   "source": [
    "---\n",
    "## Training\n",
    "\n",
    "Training will involve alternating between training the discriminator and the generator. You'll use your functions `real_loss` and `fake_loss` to help you calculate the discriminator losses.\n",
    "\n",
    "* You should train the discriminator by alternating on real and fake images\n",
    "* Then the generator, which tries to trick the discriminator and should have an opposing loss function\n",
    "\n",
    "\n",
    "#### Saving Samples\n",
    "\n",
    "You've been given some code to print out some loss statistics and save some generated \"fake\" samples."
   ]
  },
  {
   "cell_type": "markdown",
   "metadata": {
    "colab_type": "text",
    "id": "SeAVczmcc0jy"
   },
   "source": [
    "#### Exercise: Complete the training function\n",
    "\n",
    "Keep in mind that, if you've moved your models to GPU, you'll also have to move any model inputs to GPU."
   ]
  },
  {
   "cell_type": "code",
   "execution_count": 0,
   "metadata": {
    "colab": {},
    "colab_type": "code",
    "id": "j6A7cOxgc0jz"
   },
   "outputs": [],
   "source": [
    "def train(D, G, n_epochs, print_every=50):\n",
    "    '''Trains adversarial networks for some number of epochs\n",
    "       param, D: the discriminator network\n",
    "       param, G: the generator network\n",
    "       param, n_epochs: number of epochs to train for\n",
    "       param, print_every: when to print and record the models' losses\n",
    "       return: D and G losses'''\n",
    "    \n",
    "    # move models to GPU\n",
    "    if train_on_gpu:\n",
    "        D.cuda()\n",
    "        G.cuda()\n",
    "\n",
    "    # keep track of loss and generated, \"fake\" samples\n",
    "    samples = []\n",
    "    losses = []\n",
    "\n",
    "    # Get some fixed data for sampling. These are images that are held\n",
    "    # constant throughout training, and allow us to inspect the model's performance\n",
    "    sample_size=16\n",
    "    fixed_z = np.random.uniform(-1, 1, size=(sample_size, z_size))\n",
    "    fixed_z = torch.from_numpy(fixed_z).float()\n",
    "    # move z to GPU if available\n",
    "    if train_on_gpu:\n",
    "        fixed_z = fixed_z.cuda()\n",
    "\n",
    "    # epoch training loop\n",
    "    for epoch in range(n_epochs):\n",
    "\n",
    "        # batch training loop\n",
    "        for batch_i, (real_images, _) in enumerate(celeba_train_loader):\n",
    "\n",
    "            batch_size = real_images.size(0)\n",
    "            real_images = scale(real_images)\n",
    "\n",
    "            # ===============================================\n",
    "            #         YOUR CODE HERE: TRAIN THE NETWORKS\n",
    "            # ===============================================\n",
    "            d_optimizer.zero_grad()\n",
    "            real_images = real_images.to('cuda')\n",
    "            z = torch.randn(batch_size,z_size).to('cuda')\n",
    "\n",
    "            # gen fake image\n",
    "            dr = D(real_images)\n",
    "            df = D(G(z))\n",
    "\n",
    "            # 1. Train the discriminator on real and fake images\n",
    "            d_loss = real_loss(dr) + fake_loss(df)\n",
    "            d_loss.backward()\n",
    "            d_optimizer.step()\n",
    "\n",
    "            # 2. Train the generator with an adversarial loss\n",
    "            g_optimizer.zero_grad()\n",
    "            z = torch.randn(batch_size,z_size).to('cuda')\n",
    "            df2 = D(G(z))\n",
    "            g_loss = real_loss(df2) \n",
    "            g_loss.backward()\n",
    "            g_optimizer.step()\n",
    "            \n",
    "            \n",
    "            # ===============================================\n",
    "            #              END OF YOUR CODE\n",
    "            # ===============================================\n",
    "\n",
    "            # Print some loss stats\n",
    "            if batch_i % print_every == 0:\n",
    "                # append discriminator loss and generator loss\n",
    "                losses.append((d_loss.item(), g_loss.item()))\n",
    "                # print discriminator and generator loss\n",
    "                print('Epoch [{:5d}/{:5d}] | d_loss: {:6.4f} | g_loss: {:6.4f}'.format(\n",
    "                        epoch+1, n_epochs, d_loss.item(), g_loss.item()))\n",
    "\n",
    "\n",
    "        ## AFTER EACH EPOCH##    \n",
    "        # this code assumes your generator is named G, feel free to change the name\n",
    "        # generate and save sample, fake images\n",
    "        G.eval() # for generating samples\n",
    "        samples_z = G(fixed_z)\n",
    "        samples.append(samples_z)\n",
    "        G.train() # back to training mode\n",
    "\n",
    "    # Save training generator samples\n",
    "    with open('train_samples.pkl', 'wb') as f:\n",
    "        pkl.dump(samples, f)\n",
    "    \n",
    "    # finally return losses\n",
    "    return losses"
   ]
  },
  {
   "cell_type": "markdown",
   "metadata": {
    "colab_type": "text",
    "id": "OdfFDsXBc0j6"
   },
   "source": [
    "Set your number of training epochs and train your GAN!"
   ]
  },
  {
   "cell_type": "code",
   "execution_count": 23,
   "metadata": {
    "colab": {
     "base_uri": "https://localhost:8080/",
     "height": 1000
    },
    "colab_type": "code",
    "id": "CHHt1CMIc0j7",
    "outputId": "336e378e-23db-40a6-b0cd-15dfa28d65b1"
   },
   "outputs": [
    {
     "name": "stderr",
     "output_type": "stream",
     "text": [
      "/usr/local/lib/python3.6/dist-packages/torch/nn/functional.py:1340: UserWarning: nn.functional.tanh is deprecated. Use torch.tanh instead.\n",
      "  warnings.warn(\"nn.functional.tanh is deprecated. Use torch.tanh instead.\")\n"
     ]
    },
    {
     "name": "stdout",
     "output_type": "stream",
     "text": [
      "Epoch [    1/   20] | d_loss: 1.3857 | g_loss: 1.0003\n",
      "Epoch [    1/   20] | d_loss: 0.1794 | g_loss: 6.5662\n",
      "Epoch [    1/   20] | d_loss: 0.5474 | g_loss: 3.2080\n",
      "Epoch [    1/   20] | d_loss: 0.3449 | g_loss: 2.4890\n",
      "Epoch [    1/   20] | d_loss: 1.2023 | g_loss: 4.8823\n",
      "Epoch [    1/   20] | d_loss: 0.8434 | g_loss: 3.9576\n",
      "Epoch [    1/   20] | d_loss: 0.6907 | g_loss: 2.1387\n",
      "Epoch [    1/   20] | d_loss: 0.8825 | g_loss: 3.2964\n",
      "Epoch [    1/   20] | d_loss: 0.7889 | g_loss: 3.4763\n",
      "Epoch [    2/   20] | d_loss: 1.0042 | g_loss: 0.9875\n",
      "Epoch [    2/   20] | d_loss: 1.4344 | g_loss: 3.8998\n",
      "Epoch [    2/   20] | d_loss: 0.6425 | g_loss: 1.5343\n",
      "Epoch [    2/   20] | d_loss: 0.8549 | g_loss: 1.4956\n",
      "Epoch [    2/   20] | d_loss: 0.6645 | g_loss: 2.2600\n",
      "Epoch [    2/   20] | d_loss: 0.8243 | g_loss: 2.3394\n",
      "Epoch [    2/   20] | d_loss: 1.3629 | g_loss: 0.6355\n",
      "Epoch [    2/   20] | d_loss: 0.8293 | g_loss: 1.2322\n",
      "Epoch [    2/   20] | d_loss: 0.8984 | g_loss: 2.0815\n",
      "Epoch [    3/   20] | d_loss: 0.9022 | g_loss: 1.2908\n",
      "Epoch [    3/   20] | d_loss: 0.8654 | g_loss: 1.7134\n",
      "Epoch [    3/   20] | d_loss: 1.0466 | g_loss: 2.0103\n",
      "Epoch [    3/   20] | d_loss: 1.1139 | g_loss: 0.6756\n",
      "Epoch [    3/   20] | d_loss: 0.8223 | g_loss: 0.9437\n",
      "Epoch [    3/   20] | d_loss: 0.7854 | g_loss: 1.5079\n",
      "Epoch [    3/   20] | d_loss: 1.0626 | g_loss: 0.6147\n",
      "Epoch [    3/   20] | d_loss: 0.8566 | g_loss: 1.7265\n",
      "Epoch [    3/   20] | d_loss: 1.1719 | g_loss: 0.5893\n",
      "Epoch [    4/   20] | d_loss: 0.8974 | g_loss: 1.0687\n",
      "Epoch [    4/   20] | d_loss: 0.7656 | g_loss: 1.2299\n",
      "Epoch [    4/   20] | d_loss: 0.7054 | g_loss: 1.5916\n",
      "Epoch [    4/   20] | d_loss: 0.6462 | g_loss: 2.5635\n",
      "Epoch [    4/   20] | d_loss: 0.7019 | g_loss: 1.8601\n",
      "Epoch [    4/   20] | d_loss: 1.0792 | g_loss: 1.9086\n",
      "Epoch [    4/   20] | d_loss: 0.6930 | g_loss: 2.3734\n",
      "Epoch [    4/   20] | d_loss: 0.7494 | g_loss: 1.3747\n",
      "Epoch [    4/   20] | d_loss: 1.1528 | g_loss: 0.6706\n",
      "Epoch [    5/   20] | d_loss: 0.7987 | g_loss: 1.5745\n",
      "Epoch [    5/   20] | d_loss: 0.8923 | g_loss: 1.6402\n",
      "Epoch [    5/   20] | d_loss: 0.7304 | g_loss: 2.2635\n",
      "Epoch [    5/   20] | d_loss: 0.7332 | g_loss: 1.5626\n",
      "Epoch [    5/   20] | d_loss: 0.8039 | g_loss: 1.4962\n",
      "Epoch [    5/   20] | d_loss: 0.8770 | g_loss: 1.4535\n",
      "Epoch [    5/   20] | d_loss: 0.7210 | g_loss: 1.0892\n",
      "Epoch [    5/   20] | d_loss: 0.8961 | g_loss: 1.0778\n",
      "Epoch [    5/   20] | d_loss: 0.8706 | g_loss: 1.6409\n",
      "Epoch [    6/   20] | d_loss: 0.7262 | g_loss: 1.3878\n",
      "Epoch [    6/   20] | d_loss: 0.7237 | g_loss: 1.4150\n",
      "Epoch [    6/   20] | d_loss: 0.5207 | g_loss: 2.3451\n",
      "Epoch [    6/   20] | d_loss: 0.7722 | g_loss: 1.3957\n",
      "Epoch [    6/   20] | d_loss: 0.8865 | g_loss: 1.5387\n",
      "Epoch [    6/   20] | d_loss: 0.9770 | g_loss: 3.4019\n",
      "Epoch [    6/   20] | d_loss: 0.4905 | g_loss: 2.5628\n",
      "Epoch [    6/   20] | d_loss: 0.8143 | g_loss: 1.5294\n",
      "Epoch [    6/   20] | d_loss: 0.5892 | g_loss: 1.6575\n",
      "Epoch [    7/   20] | d_loss: 0.6470 | g_loss: 1.0656\n",
      "Epoch [    7/   20] | d_loss: 0.4902 | g_loss: 2.4828\n",
      "Epoch [    7/   20] | d_loss: 1.1940 | g_loss: 1.1424\n",
      "Epoch [    7/   20] | d_loss: 0.7728 | g_loss: 2.6618\n",
      "Epoch [    7/   20] | d_loss: 0.4685 | g_loss: 2.3198\n",
      "Epoch [    7/   20] | d_loss: 0.9902 | g_loss: 2.9826\n",
      "Epoch [    7/   20] | d_loss: 0.6911 | g_loss: 1.7910\n",
      "Epoch [    7/   20] | d_loss: 0.6430 | g_loss: 2.5374\n",
      "Epoch [    7/   20] | d_loss: 0.6851 | g_loss: 2.2029\n",
      "Epoch [    8/   20] | d_loss: 0.7284 | g_loss: 1.7459\n",
      "Epoch [    8/   20] | d_loss: 0.6550 | g_loss: 2.5127\n",
      "Epoch [    8/   20] | d_loss: 0.4843 | g_loss: 2.1909\n",
      "Epoch [    8/   20] | d_loss: 0.6171 | g_loss: 3.0285\n",
      "Epoch [    8/   20] | d_loss: 0.6434 | g_loss: 1.7408\n",
      "Epoch [    8/   20] | d_loss: 1.0269 | g_loss: 0.7481\n",
      "Epoch [    8/   20] | d_loss: 0.7557 | g_loss: 3.4903\n",
      "Epoch [    8/   20] | d_loss: 0.4310 | g_loss: 1.9693\n",
      "Epoch [    8/   20] | d_loss: 0.5930 | g_loss: 1.8657\n",
      "Epoch [    9/   20] | d_loss: 0.4805 | g_loss: 2.5013\n",
      "Epoch [    9/   20] | d_loss: 0.5972 | g_loss: 1.6360\n",
      "Epoch [    9/   20] | d_loss: 0.4471 | g_loss: 1.3498\n",
      "Epoch [    9/   20] | d_loss: 0.5798 | g_loss: 1.9530\n",
      "Epoch [    9/   20] | d_loss: 0.4257 | g_loss: 2.2283\n",
      "Epoch [    9/   20] | d_loss: 1.1081 | g_loss: 0.9456\n",
      "Epoch [    9/   20] | d_loss: 0.3919 | g_loss: 1.3902\n",
      "Epoch [    9/   20] | d_loss: 0.5847 | g_loss: 1.5432\n",
      "Epoch [    9/   20] | d_loss: 0.8057 | g_loss: 3.8353\n",
      "Epoch [   10/   20] | d_loss: 0.4380 | g_loss: 2.3382\n",
      "Epoch [   10/   20] | d_loss: 0.4255 | g_loss: 1.6466\n",
      "Epoch [   10/   20] | d_loss: 0.3872 | g_loss: 2.3112\n",
      "Epoch [   10/   20] | d_loss: 0.5901 | g_loss: 1.4499\n",
      "Epoch [   10/   20] | d_loss: 0.4294 | g_loss: 2.9465\n",
      "Epoch [   10/   20] | d_loss: 0.4481 | g_loss: 2.5934\n",
      "Epoch [   10/   20] | d_loss: 0.5258 | g_loss: 3.1797\n",
      "Epoch [   10/   20] | d_loss: 1.0920 | g_loss: 1.2745\n",
      "Epoch [   10/   20] | d_loss: 0.4204 | g_loss: 1.9298\n",
      "Epoch [   11/   20] | d_loss: 0.8303 | g_loss: 0.8007\n",
      "Epoch [   11/   20] | d_loss: 0.5828 | g_loss: 3.5134\n",
      "Epoch [   11/   20] | d_loss: 0.7620 | g_loss: 1.4557\n",
      "Epoch [   11/   20] | d_loss: 0.4866 | g_loss: 1.6600\n",
      "Epoch [   11/   20] | d_loss: 0.6358 | g_loss: 2.4986\n",
      "Epoch [   11/   20] | d_loss: 0.4769 | g_loss: 1.7944\n",
      "Epoch [   11/   20] | d_loss: 0.4780 | g_loss: 2.1534\n",
      "Epoch [   11/   20] | d_loss: 0.3038 | g_loss: 3.3343\n",
      "Epoch [   11/   20] | d_loss: 0.4108 | g_loss: 2.6498\n",
      "Epoch [   12/   20] | d_loss: 0.5143 | g_loss: 3.5467\n",
      "Epoch [   12/   20] | d_loss: 0.4794 | g_loss: 2.5028\n",
      "Epoch [   12/   20] | d_loss: 0.2581 | g_loss: 3.0068\n",
      "Epoch [   12/   20] | d_loss: 0.7839 | g_loss: 0.4985\n",
      "Epoch [   12/   20] | d_loss: 0.3925 | g_loss: 2.5547\n",
      "Epoch [   12/   20] | d_loss: 0.3464 | g_loss: 3.2081\n",
      "Epoch [   12/   20] | d_loss: 0.5284 | g_loss: 1.4299\n",
      "Epoch [   12/   20] | d_loss: 0.7507 | g_loss: 1.3549\n",
      "Epoch [   12/   20] | d_loss: 0.5340 | g_loss: 2.3410\n",
      "Epoch [   13/   20] | d_loss: 0.2480 | g_loss: 2.5677\n",
      "Epoch [   13/   20] | d_loss: 0.2176 | g_loss: 2.5596\n",
      "Epoch [   13/   20] | d_loss: 0.3723 | g_loss: 2.6181\n",
      "Epoch [   13/   20] | d_loss: 0.4895 | g_loss: 3.0727\n",
      "Epoch [   13/   20] | d_loss: 0.3284 | g_loss: 2.0156\n",
      "Epoch [   13/   20] | d_loss: 0.3087 | g_loss: 3.7391\n",
      "Epoch [   13/   20] | d_loss: 0.4069 | g_loss: 2.9333\n",
      "Epoch [   13/   20] | d_loss: 0.3788 | g_loss: 2.7849\n",
      "Epoch [   13/   20] | d_loss: 0.2761 | g_loss: 2.5850\n",
      "Epoch [   14/   20] | d_loss: 0.4085 | g_loss: 1.9046\n",
      "Epoch [   14/   20] | d_loss: 0.4941 | g_loss: 2.3474\n",
      "Epoch [   14/   20] | d_loss: 0.3348 | g_loss: 2.7841\n",
      "Epoch [   14/   20] | d_loss: 0.3323 | g_loss: 2.9309\n",
      "Epoch [   14/   20] | d_loss: 0.2998 | g_loss: 3.2677\n",
      "Epoch [   14/   20] | d_loss: 0.4060 | g_loss: 2.4010\n",
      "Epoch [   14/   20] | d_loss: 0.1834 | g_loss: 2.8320\n",
      "Epoch [   14/   20] | d_loss: 0.2953 | g_loss: 2.9591\n",
      "Epoch [   14/   20] | d_loss: 0.4695 | g_loss: 3.5686\n",
      "Epoch [   15/   20] | d_loss: 0.7185 | g_loss: 4.7716\n",
      "Epoch [   15/   20] | d_loss: 0.1571 | g_loss: 3.5069\n",
      "Epoch [   15/   20] | d_loss: 0.5681 | g_loss: 3.3662\n",
      "Epoch [   15/   20] | d_loss: 0.2347 | g_loss: 2.9056\n",
      "Epoch [   15/   20] | d_loss: 0.2926 | g_loss: 3.2664\n",
      "Epoch [   15/   20] | d_loss: 0.9613 | g_loss: 1.8649\n",
      "Epoch [   15/   20] | d_loss: 0.3685 | g_loss: 2.6432\n",
      "Epoch [   15/   20] | d_loss: 0.3364 | g_loss: 2.6241\n",
      "Epoch [   15/   20] | d_loss: 0.2709 | g_loss: 3.1813\n",
      "Epoch [   16/   20] | d_loss: 0.3842 | g_loss: 2.5374\n",
      "Epoch [   16/   20] | d_loss: 0.3343 | g_loss: 2.0364\n",
      "Epoch [   16/   20] | d_loss: 0.4923 | g_loss: 1.8025\n",
      "Epoch [   16/   20] | d_loss: 1.1313 | g_loss: 3.1405\n",
      "Epoch [   16/   20] | d_loss: 0.4143 | g_loss: 3.2075\n",
      "Epoch [   16/   20] | d_loss: 0.2832 | g_loss: 2.4065\n",
      "Epoch [   16/   20] | d_loss: 0.3410 | g_loss: 2.9537\n",
      "Epoch [   16/   20] | d_loss: 0.4771 | g_loss: 3.8490\n",
      "Epoch [   16/   20] | d_loss: 0.2809 | g_loss: 3.1902\n",
      "Epoch [   17/   20] | d_loss: 0.2349 | g_loss: 2.4280\n",
      "Epoch [   17/   20] | d_loss: 0.7326 | g_loss: 1.1734\n",
      "Epoch [   17/   20] | d_loss: 0.3137 | g_loss: 2.2321\n",
      "Epoch [   17/   20] | d_loss: 0.8796 | g_loss: 5.0270\n",
      "Epoch [   17/   20] | d_loss: 0.6548 | g_loss: 2.1699\n",
      "Epoch [   17/   20] | d_loss: 0.4280 | g_loss: 3.0523\n",
      "Epoch [   17/   20] | d_loss: 0.1844 | g_loss: 3.3266\n",
      "Epoch [   17/   20] | d_loss: 0.4997 | g_loss: 2.2422\n",
      "Epoch [   17/   20] | d_loss: 0.3172 | g_loss: 2.8755\n",
      "Epoch [   18/   20] | d_loss: 0.4406 | g_loss: 1.4647\n",
      "Epoch [   18/   20] | d_loss: 0.7125 | g_loss: 0.9500\n",
      "Epoch [   18/   20] | d_loss: 0.2500 | g_loss: 3.0592\n",
      "Epoch [   18/   20] | d_loss: 0.2570 | g_loss: 1.6210\n",
      "Epoch [   18/   20] | d_loss: 0.2679 | g_loss: 3.1474\n",
      "Epoch [   18/   20] | d_loss: 0.1721 | g_loss: 3.2273\n",
      "Epoch [   18/   20] | d_loss: 0.4261 | g_loss: 3.5113\n",
      "Epoch [   18/   20] | d_loss: 0.2489 | g_loss: 2.6653\n",
      "Epoch [   18/   20] | d_loss: 0.3102 | g_loss: 3.0405\n",
      "Epoch [   19/   20] | d_loss: 1.3144 | g_loss: 1.5928\n",
      "Epoch [   19/   20] | d_loss: 0.4728 | g_loss: 1.2689\n",
      "Epoch [   19/   20] | d_loss: 1.1597 | g_loss: 6.0363\n",
      "Epoch [   19/   20] | d_loss: 0.2691 | g_loss: 3.4592\n",
      "Epoch [   19/   20] | d_loss: 0.2664 | g_loss: 2.8372\n",
      "Epoch [   19/   20] | d_loss: 0.1818 | g_loss: 3.4330\n",
      "Epoch [   19/   20] | d_loss: 0.4926 | g_loss: 1.0809\n",
      "Epoch [   19/   20] | d_loss: 0.6122 | g_loss: 1.6678\n",
      "Epoch [   19/   20] | d_loss: 0.2223 | g_loss: 3.1585\n",
      "Epoch [   20/   20] | d_loss: 0.3431 | g_loss: 2.2608\n",
      "Epoch [   20/   20] | d_loss: 0.1636 | g_loss: 3.1733\n",
      "Epoch [   20/   20] | d_loss: 0.1762 | g_loss: 2.8656\n",
      "Epoch [   20/   20] | d_loss: 0.2747 | g_loss: 3.9465\n",
      "Epoch [   20/   20] | d_loss: 0.2752 | g_loss: 2.9578\n",
      "Epoch [   20/   20] | d_loss: 0.1819 | g_loss: 4.2626\n",
      "Epoch [   20/   20] | d_loss: 0.1802 | g_loss: 1.8545\n",
      "Epoch [   20/   20] | d_loss: 0.3178 | g_loss: 3.4035\n",
      "Epoch [   20/   20] | d_loss: 0.3335 | g_loss: 2.5252\n"
     ]
    }
   ],
   "source": [
    "# set number of epochs \n",
    "n_epochs = 20\n",
    "\n",
    "\n",
    "\"\"\"\n",
    "DON'T MODIFY ANYTHING IN THIS CELL\n",
    "\"\"\"\n",
    "# call training func tion\n",
    "losses = train(D, G, n_epochs=n_epochs)"
   ]
  },
  {
   "cell_type": "markdown",
   "metadata": {
    "colab_type": "text",
    "collapsed": true,
    "id": "bGlNMvbpc0j-"
   },
   "source": [
    "## Training loss\n",
    "\n",
    "Plot the training losses for the generator and discriminator, recorded after each epoch."
   ]
  },
  {
   "cell_type": "code",
   "execution_count": 24,
   "metadata": {
    "colab": {
     "base_uri": "https://localhost:8080/",
     "height": 298
    },
    "colab_type": "code",
    "id": "-BW7ONuvc0j_",
    "outputId": "b354f2cf-3795-4eae-a580-7dbdf333b458"
   },
   "outputs": [
    {
     "data": {
      "text/plain": [
       "<matplotlib.legend.Legend at 0x7fd5667f6320>"
      ]
     },
     "execution_count": 24,
     "metadata": {
      "tags": []
     },
     "output_type": "execute_result"
    },
    {
     "data": {
      "image/png": "[encoded data removed]",
      "text/plain": [
       "<Figure size 432x288 with 1 Axes>"
      ]
     },
     "metadata": {
      "tags": []
     },
     "output_type": "display_data"
    }
   ],
   "source": [
    "fig, ax = plt.subplots()\n",
    "losses = np.array(losses)\n",
    "plt.plot(losses.T[0], label='Discriminator', alpha=0.5)\n",
    "plt.plot(losses.T[1], label='Generator', alpha=0.5)\n",
    "plt.title(\"Training Losses\")\n",
    "plt.legend()"
   ]
  },
  {
   "cell_type": "markdown",
   "metadata": {
    "colab_type": "text",
    "collapsed": true,
    "id": "Fwq3H6Plc0kC"
   },
   "source": [
    "## Generator samples from training\n",
    "\n",
    "View samples of images from the generator, and answer a question about the strengths and weaknesses of your trained models."
   ]
  },
  {
   "cell_type": "code",
   "execution_count": 0,
   "metadata": {
    "colab": {},
    "colab_type": "code",
    "id": "C5TLON87c0kD"
   },
   "outputs": [],
   "source": [
    "# helper function for viewing a list of passed in sample images\n",
    "def view_samples(epoch, samples):\n",
    "    fig, axes = plt.subplots(figsize=(16,4), nrows=2, ncols=8, sharey=True, sharex=True)\n",
    "    for ax, img in zip(axes.flatten(), samples[epoch]):\n",
    "        img = img.detach().cpu().numpy()\n",
    "        img = np.transpose(img, (1, 2, 0))\n",
    "        img = ((img + 1)*255 / (2)).astype(np.uint8)\n",
    "        ax.xaxis.set_visible(False)\n",
    "        ax.yaxis.set_visible(False)\n",
    "        im = ax.imshow(img.reshape((32,32,3)))"
   ]
  },
  {
   "cell_type": "code",
   "execution_count": 0,
   "metadata": {
    "colab": {},
    "colab_type": "code",
    "id": "oz7imeR_c0kH"
   },
   "outputs": [],
   "source": [
    "# Load samples from generator, taken while training\n",
    "with open('train_samples.pkl', 'rb') as f:\n",
    "    samples = pkl.load(f)"
   ]
  },
  {
   "cell_type": "code",
   "execution_count": 27,
   "metadata": {
    "colab": {
     "base_uri": "https://localhost:8080/",
     "height": 248
    },
    "colab_type": "code",
    "id": "MKxXh4AFc0kL",
    "outputId": "65f44c2c-d8dc-4a21-85a0-2ca3ba1ed7fb"
   },
   "outputs": [
    {
     "data": {
      "image/png": "[encoded data removed]",
      "text/plain": [
       "<Figure size 1152x288 with 16 Axes>"
      ]
     },
     "metadata": {
      "tags": []
     },
     "output_type": "display_data"
    }
   ],
   "source": [
    "_ = view_samples(-1, samples)"
   ]
  },
  {
   "cell_type": "markdown",
   "metadata": {
    "colab_type": "text",
    "id": "k60kjXUvc0kP"
   },
   "source": [
    "### Question: What do you notice about your generated samples and how might you improve this model?\n",
    "When you answer this question, consider the following factors:\n",
    "* The dataset is biased; it is made of \"celebrity\" faces that are mostly white\n",
    "* Model size; larger models have the opportunity to learn more features in a data feature space\n",
    "* Optimization strategy; optimizers and number of epochs affect your final result\n"
   ]
  },
  {
   "cell_type": "markdown",
   "metadata": {
    "colab_type": "text",
    "id": "tiQL7Uk1c0kR"
   },
   "source": [
    "**Answer:** (Write your answer in this cell)"
   ]
  },
  {
   "cell_type": "markdown",
   "metadata": {
    "colab_type": "text",
    "id": "F6o1Ib1Oc0kS"
   },
   "source": [
    "### Submitting This Project\n",
    "When submitting this project, make sure to run all the cells before saving the notebook. Save the notebook file as \"dlnd_face_generation.ipynb\" and save it as a HTML file under \"File\" -> \"Download as\". Include the \"problem_unittests.py\" files in your submission."
   ]
  },
  {
   "cell_type": "code",
   "execution_count": 3,
   "metadata": {
    "colab": {
     "base_uri": "https://localhost:8080/",
     "height": 34
    },
    "colab_type": "code",
    "id": "D9Hxdwj9GiaH",
    "outputId": "4dcd98c1-b015-438c-b1f5-77f3f092f411"
   },
   "outputs": [
    {
     "data": {
      "text/plain": [
       "65280"
      ]
     },
     "execution_count": 3,
     "metadata": {
      "tags": []
     },
     "output_type": "execute_result"
    }
   ],
   "source": [
    "import os\n",
    "os.system('jupyter nbconvert --to html face_generation.ipynb')"
   ]
  },
  {
   "cell_type": "code",
   "execution_count": 2,
   "metadata": {
    "colab": {
     "base_uri": "https://localhost:8080/",
     "height": 34
    },
    "colab_type": "code",
    "id": "axZeLz5MHwyn",
    "outputId": "035dbad4-5a1a-4b69-f7b1-865ca08b5030"
   },
   "outputs": [
    {
     "data": {
      "text/plain": [
       "['.config', 'sample_data']"
      ]
     },
     "execution_count": 2,
     "metadata": {
      "tags": []
     },
     "output_type": "execute_result"
    }
   ],
   "source": [
    "os.listdir()"
   ]
  },
  {
   "cell_type": "code",
   "execution_count": 0,
   "metadata": {
    "colab": {},
    "colab_type": "code",
    "id": "RgXSQ6SXHzr-"
   },
   "outputs": [],
   "source": []
  }
 ],
 "metadata": {
  "accelerator": "GPU",
  "colab": {
   "collapsed_sections": [],
   "name": "face_generation.ipynb",
   "provenance": []
  },
  "kernelspec": {
   "display_name": "Python 3",
   "language": "python",
   "name": "python3"
  },
  "language_info": {
   "codemirror_mode": {
    "name": "ipython",
    "version": 3
   },
   "file_extension": ".py",
   "mimetype": "text/x-python",
   "name": "python",
   "nbconvert_exporter": "python",
   "pygments_lexer": "ipython3",
   "version": "3.7.6"
  }
 },
 "nbformat": 4,
 "nbformat_minor": 1
}
